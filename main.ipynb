{
 "cells": [
  {
   "cell_type": "markdown",
   "metadata": {},
   "source": [
    "## **Les fonctions Python**"
   ]
  },
  {
   "cell_type": "markdown",
   "metadata": {},
   "source": [
    "On peut être amené, en Python, à réaliser plusieurs fois la même tâche.\n",
    "\n",
    "Pour éviter de réécrire le code, on va utiliser une **fonction** à laquelle on va pouvoir faire appel.\n",
    "\n",
    "Par exemple, on peut avoir besoin de calculer plusieurs fois le cube d'un nombre $n$. Pour cela, on peut créer une fonction dans Python. On utilise alors le mot clé `def` suivit du nom de la fonction (on essaiera de choisir un nom qui fait du sens). Par exemple :"
   ]
  },
  {
   "cell_type": "code",
   "execution_count": null,
   "metadata": {},
   "outputs": [],
   "source": [
    "def cube(n):\n",
    "    return n*n*n"
   ]
  },
  {
   "cell_type": "markdown",
   "metadata": {},
   "source": [
    "On vient donc de créer une fonction `cube` qui prend un argument : `n` et qui retourne le cube du nombre `n`. On peut alors utiliser cette fonction comme on le souhaite en indiquant son nom suivi des arguments nécessaires :"
   ]
  },
  {
   "cell_type": "code",
   "execution_count": null,
   "metadata": {},
   "outputs": [],
   "source": [
    "print(cube(2))\n",
    "print(cube(-5))\n",
    "print(cube(25))"
   ]
  },
  {
   "cell_type": "markdown",
   "metadata": {},
   "source": [
    "### **Exemple**"
   ]
  },
  {
   "cell_type": "markdown",
   "metadata": {},
   "source": [
    "Reprenons l'exemple du calcul de la somme $1+2+3+\\dots +n$.\n",
    "\n",
    "Nous avions trouvé le code suivant pour calculer cette somme :"
   ]
  },
  {
   "cell_type": "code",
   "execution_count": null,
   "metadata": {},
   "outputs": [],
   "source": [
    "n = int(input(\"Entrer un nombre : \"))\n",
    "Somme = 0\n",
    "for i in range(1,n+1):\n",
    "    Somme = Somme + i\n",
    "print(Somme)"
   ]
  },
  {
   "cell_type": "markdown",
   "metadata": {},
   "source": [
    "On peut alors créer une fonction qui a cette utilité afin de pouvoir calculer la somme des $n$ premiers entiers à tout moment :"
   ]
  },
  {
   "cell_type": "code",
   "execution_count": null,
   "metadata": {},
   "outputs": [],
   "source": [
    "def somme(n):\n",
    "    Somme = 0\n",
    "    for i in range(1,n+1):\n",
    "        Somme = Somme + i\n",
    "    return Somme"
   ]
  },
  {
   "cell_type": "markdown",
   "metadata": {},
   "source": [
    "On peut alors calculer la somme pour n'importe quel nombre en appelant la fonction que l'on vient de créer :"
   ]
  },
  {
   "cell_type": "code",
   "execution_count": null,
   "metadata": {},
   "outputs": [],
   "source": [
    "print(somme(10))\n",
    "print(somme(314))"
   ]
  },
  {
   "cell_type": "markdown",
   "metadata": {},
   "source": [
    "### **Exercice 1**"
   ]
  },
  {
   "cell_type": "markdown",
   "metadata": {},
   "source": [
    "Une société de location de voitures propose à ses clients deux contrats :\n",
    "\n",
    "- Contrat 1 : 0,80€ le kilomètre parcouru.\n",
    "- Contrat 2 : 45€ de forfait puis 0,50€ le kilomètre parcouru."
   ]
  },
  {
   "cell_type": "markdown",
   "metadata": {},
   "source": [
    "Compléter la fonction `Prix1` afin qu'elle retourne le prix que le client devra payer avec le contrat 1 en ayant parcouru `x` kilomètres."
   ]
  },
  {
   "cell_type": "code",
   "execution_count": null,
   "metadata": {},
   "outputs": [],
   "source": [
    "def Prix1(x):\n",
    "    Prix = \n",
    "    return Prix"
   ]
  },
  {
   "cell_type": "markdown",
   "metadata": {},
   "source": [
    "Testons la fonction avec quelques valeurs simples :"
   ]
  },
  {
   "cell_type": "code",
   "execution_count": null,
   "metadata": {},
   "outputs": [],
   "source": [
    "print(Prix1(0))\n",
    "print(Prix1(10))\n",
    "print(Prix1(100))"
   ]
  },
  {
   "cell_type": "markdown",
   "metadata": {},
   "source": [
    "De la même manière, créer une fonction `Prix2` qui retourne le prix que devra payer le client avec le contrat 2 en ayant parcouru `x` kilomètres."
   ]
  },
  {
   "cell_type": "code",
   "execution_count": null,
   "metadata": {},
   "outputs": [],
   "source": [
    "def Prix2(x):\n",
    "    Prix = \n",
    "    return Prix"
   ]
  },
  {
   "cell_type": "markdown",
   "metadata": {},
   "source": [
    "De même, testons cette fonction avec quelques valeurs simples :"
   ]
  },
  {
   "cell_type": "code",
   "execution_count": null,
   "metadata": {},
   "outputs": [],
   "source": [
    "print(Prix2(0))\n",
    "print(Prix2(10))\n",
    "print(Prix2(100))"
   ]
  },
  {
   "cell_type": "markdown",
   "metadata": {},
   "source": [
    "Enfin, créer une fonction `PlusAvantageux(x)` qui indique le Tarif le plus avantageux en parcourant `x` kilomètres.\n",
    "\n",
    "*Remarque* : Cette fonction n'a pas de ligne de commande `return`, elle doit simplement afficher le tarif le plus avantageux.\n",
    "Pour afficher le meilleur tarif, on pourra utiliser une instruction de la forme : `print(\"Le tarif le plus avantageux pour parcourir \",x,\" kilomètres est le Tarif 1/2\")`"
   ]
  },
  {
   "cell_type": "code",
   "execution_count": null,
   "metadata": {},
   "outputs": [],
   "source": [
    "def PlusAvantageux(x):\n",
    "    "
   ]
  },
  {
   "cell_type": "markdown",
   "metadata": {},
   "source": [
    "Testons avec quelques valeurs de `x` :"
   ]
  },
  {
   "cell_type": "code",
   "execution_count": null,
   "metadata": {},
   "outputs": [],
   "source": [
    "PlusAvantageux(0)\n",
    "PlusAvantageux(1000)\n",
    "PlusAvantageux(100)\n",
    "PlusAvantageux(200)\n",
    "PlusAvantageux(150)"
   ]
  },
  {
   "cell_type": "markdown",
   "metadata": {},
   "source": [
    "### **Exercice 2**"
   ]
  },
  {
   "cell_type": "markdown",
   "metadata": {},
   "source": [
    "Écrire une fonction `est_premier(n)` qui indique si le nombre `n` est un nombre premier ou non.\n",
    "\n",
    "*Remarque* : `n` n'est pas un nombre premier si il existe un nombre entre 2 et $n-1$ qui le divise."
   ]
  },
  {
   "cell_type": "code",
   "execution_count": null,
   "metadata": {},
   "outputs": [],
   "source": [
    "def est_premier(n):\n",
    "    "
   ]
  },
  {
   "cell_type": "markdown",
   "metadata": {},
   "source": [
    "### **Exercice 3**"
   ]
  },
  {
   "cell_type": "markdown",
   "metadata": {},
   "source": [
    "Le but de l'exercice est de créer un mini jeu où le but est de trouver un nombre sélectionner au hasard par l'ordinateur entre 1 et 100 en indiquant au joueur : \"Plus grand\" ou \"Plus petit\" en fonction de sa réponse et en recommençant jusqu'à trouver la bonne réponse.\n",
    "\n",
    "Par la suite, on natera `n_alea` la variable contenant le nombre tiré au hasard par l'ordinateur et `n_joueur` la variable contenant le nombre indiqué par le joueur."
   ]
  },
  {
   "cell_type": "markdown",
   "metadata": {},
   "source": [
    "On va commencer par créer une fonction `comparaison` qui va afficher \"Plus grand\" si le nombre à deviner est plus grand que l'estimation du joueur, \"Plus petit\" si le nombre à deviner est plus petit que l'estimation du joueur ou \"Gagné\" si les deux nombres sont identiques.\n",
    "\n",
    "*Remarque* : Cette fonction possède deux arguments, il faut faire attention à l'ordre des arguements qui ne doit pas changer en cours d'utilisation."
   ]
  },
  {
   "cell_type": "code",
   "execution_count": null,
   "metadata": {},
   "outputs": [],
   "source": [
    "def comparaison(n_alea, n_joueur):\n",
    "    "
   ]
  },
  {
   "cell_type": "markdown",
   "metadata": {},
   "source": [
    "Testons la fonction pour vérifier son comportement :"
   ]
  },
  {
   "cell_type": "code",
   "execution_count": null,
   "metadata": {},
   "outputs": [],
   "source": [
    "comparaison(12,35)\n",
    "comparaison(26,4)\n",
    "comparaison(46,46)"
   ]
  },
  {
   "cell_type": "markdown",
   "metadata": {},
   "source": [
    "On peu ensuite créer une fonction `jeu()` sans arguement qui permet de lancer le jeu et de répéter l'étape de comparaison tant que les deux nombres sont différents :"
   ]
  },
  {
   "cell_type": "code",
   "execution_count": null,
   "metadata": {},
   "outputs": [],
   "source": [
    "from random import randint\n",
    "\n",
    "def jeu():\n",
    "    n_alea = randint(1,100)\n",
    "    while(   ):\n",
    "        n_joueur = int(input(\"Entrer un nombre entre 1 et 100 : \"))"
   ]
  },
  {
   "cell_type": "markdown",
   "metadata": {},
   "source": [
    "La fonction `jeu()` n'a pas d'arguements en entrée, les parenthèses restent cependant obligatoire pour indiquer à Python qu'il s'agit bien d'une fonction et non d'une  variable ou de tout autre objet.\n",
    "\n",
    "On peut alors lancer le jeu avec l'instruction suivante :"
   ]
  },
  {
   "cell_type": "code",
   "execution_count": null,
   "metadata": {},
   "outputs": [],
   "source": [
    "jeu()"
   ]
  },
  {
   "cell_type": "code",
   "execution_count": null,
   "metadata": {},
   "outputs": [],
   "source": []
  }
 ],
 "metadata": {
  "kernelspec": {
   "display_name": "Python 3",
   "language": "python",
   "name": "python3"
  },
  "language_info": {
   "codemirror_mode": {
    "name": "ipython",
    "version": 3
   },
   "file_extension": ".py",
   "mimetype": "text/x-python",
   "name": "python",
   "nbconvert_exporter": "python",
   "pygments_lexer": "ipython3",
   "version": "3.7.4"
  }
 },
 "nbformat": 4,
 "nbformat_minor": 2
}
